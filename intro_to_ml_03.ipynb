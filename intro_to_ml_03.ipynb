{
 "cells": [
  {
   "cell_type": "markdown",
   "id": "republican-commerce",
   "metadata": {},
   "source": [
    "# Introduction to Machine Learning<br><br>Day 03:<br>Text Classification"
   ]
  },
  {
   "cell_type": "markdown",
   "id": "backed-terrace",
   "metadata": {},
   "source": [
    "<center>Dr. William Mattingly<br>\n",
    "TAP Institute with JSTOR</center>"
   ]
  },
  {
   "cell_type": "markdown",
   "id": "accepted-adapter",
   "metadata": {},
   "source": [
    "1) What is text classification?<br>\n",
    "2) When should I use text classification?<br>\n",
    "3) spaCy's Text Classification Pipeline<br>\n",
    "4) Resources for future exploration of ML"
   ]
  },
  {
   "cell_type": "markdown",
   "id": "romance-mystery",
   "metadata": {},
   "source": [
    "## Preface"
   ]
  },
  {
   "cell_type": "markdown",
   "id": "objective-cleaning",
   "metadata": {},
   "source": [
    "This notebook will introduce the reader to more complex elements of machine learning through text classification. It will introduce the reader to new key terms, such as prediction, generalization, and accuracy metrics."
   ]
  },
  {
   "cell_type": "markdown",
   "id": "nervous-cover",
   "metadata": {},
   "source": [
    "## Background - Supervised Learning"
   ]
  },
  {
   "cell_type": "markdown",
   "id": "framed-president",
   "metadata": {},
   "source": [
    "Imagine we have an individual named Laura. Laura enjoys music. Now, in this scenario, we do not know what genre of music that she likes, rather we know the features of the music she likes. She enjoys fast tempo music with upbeat melodies. If we were to ask her to rate the song below, do we know what she would say about it on a scale of 1 (likes) and 0 (dislikes)?"
   ]
  },
  {
   "cell_type": "code",
   "execution_count": 1,
   "id": "altered-watson",
   "metadata": {},
   "outputs": [
    {
     "name": "stderr",
     "output_type": "stream",
     "text": [
      "c:\\users\\wma22\\appdata\\local\\programs\\python\\python39\\lib\\site-packages\\IPython\\core\\display.py:717: UserWarning: Consider using IPython.display.IFrame instead\n",
      "  warnings.warn(\"Consider using IPython.display.IFrame instead\")\n"
     ]
    },
    {
     "data": {
      "text/html": [
       "<iframe width=\"560\" height=\"315\" src=\"https://www.youtube.com/embed/GF0I0fHBMKA\" title=\"YouTube video player\" frameborder=\"0\" allow=\"accelerometer; autoplay; clipboard-write; encrypted-media; gyroscope; picture-in-picture\" allowfullscreen></iframe>"
      ],
      "text/plain": [
       "<IPython.core.display.HTML object>"
      ]
     },
     "execution_count": 1,
     "metadata": {},
     "output_type": "execute_result"
    }
   ],
   "source": [
    "from IPython.display import HTML\n",
    "\n",
    "# Youtube\n",
    "HTML('<iframe width=\"560\" height=\"315\" src=\"https://www.youtube.com/embed/GF0I0fHBMKA\" title=\"YouTube video player\" frameborder=\"0\" allow=\"accelerometer; autoplay; clipboard-write; encrypted-media; gyroscope; picture-in-picture\" allowfullscreen></iframe>')"
   ]
  },
  {
   "cell_type": "markdown",
   "id": "little-ferry",
   "metadata": {},
   "source": [
    "It was likely easy for you to say that she would probably enjoy it. It has a fast tempo and is upbeat. You have used her past experiences with music to make a prediction on unseen data. You have done this inuitively. Now, what if the song was a little different. What if it had a mild tempo, but upbeat sound? In this scenario, it would be harder to make an accurate prediction and this is where machine learning comes into play. It allows us to use algorithms to solve more complex problems. If we had enough data on Laura's music history, we could use a supervised learning approach to know what she likes and dislikes to make a more accurate guess.\n",
    "\n",
    "Text is, however, vastly more complicated beecause theree are a myriad of features to language."
   ]
  },
  {
   "cell_type": "markdown",
   "id": "focal-trace",
   "metadata": {},
   "source": [
    "## Part One - Introduction to Text Classification"
   ]
  },
  {
   "cell_type": "markdown",
   "id": "fresh-exhibition",
   "metadata": {},
   "source": [
    "In the last notebook, we engaged in a form of unsupervised learning. We allowed a system to take unstructured data and assign 20 categories to it. In this notebook, we will explore a different method of machine learning known as supervised learning. As noted in notebook 1, supervised learning is when we know the structure of our data. We have labels that correspond to that data and we leverage that knowledge to train a computer system to assign the same labels to similar unknown data. In NLP, text classification is a form of supervised learning.\n",
    "\n",
    "Classification tasks fall into roughly three categories:\n",
    "\n",
    "1) binary classification<br>\n",
    "2) multiclass classification<br>\n",
    "3) multilabel classification\n",
    "\n",
    "The differences will not be explored in great detail here as we will be dealing primarily with binary text classification. You should, however, be familiar with these three categories as you will choose different approaches to solve different problems.\n",
    "\n",
    "<b>Binary classification</b> is when a model has the ability to choose between two labels, a 0 and a 1. These numbers stand for a specific label. If we were to create a positive/negative review classifier (a common introducutory ML task), then 0 could be negative and 1 could be positive. After training, the model will see the entire world as either being positive or negative and when it encounters a new text, it will assign a float, or floating number (decimal) to that text. This is known as a <b>prediction</b>. The closer this prediction is to 0 or 1 indicates the degree to which the text at hand is positive or negative.\n",
    "\n",
    "<b>Multiclass classification</b> is when a model is designend to handle multiple potential labels. If we are trying to determine if a piece of text is a letter, movie review, or tax form, wew will have three potential labels (letter, movie_review, tax_form). The model will make a prediction based on its experiences during training to determine which of the texts it falls under. In multiclass classification, there can be only one label.\n",
    "\n",
    "<b>Multilabel classification</b> is like multiclass classification, except a text can have multiple labels. This is useful if you expect there to be multiple potential labels for texts in your corpus. Imagien if you have a text that is a letter in nature, but deals partially about a movie that the writer saw a few days earlier. A prediction of letter would be accurate as would movie_review, but a multiclass classification model cannot make these nuances known. A multilabel classification model can. Its output will look somewhat similar to a binary classification model for each potential label, so it may be (letter: 0.5030030, movie_review: 0.4020039, tax_form: 0.00002). This output captures the degree to which the text fits the form of a letter, but deals with the subject of a movie.\n",
    "\n",
    "The selection of prediction type affects the activation function used in the final layer of a neural network. An <b>activation function</b> is an output node in a neural network that determins the prediction. It is beyond the scope of these notebooks to cover this."
   ]
  },
  {
   "cell_type": "markdown",
   "id": "distant-calculator",
   "metadata": {},
   "source": [
    "## Part Two - When to Use Text Classification"
   ]
  },
  {
   "cell_type": "markdown",
   "id": "excellent-documentation",
   "metadata": {},
   "source": [
    "Text classification should be used when you either have access to a dataset with labels or intend to cultivate a dataset with labels. In my experience, text classification tends to achieve better results with texts that are longer (500+words)."
   ]
  },
  {
   "cell_type": "markdown",
   "id": "acknowledged-telling",
   "metadata": {},
   "source": [
    "## Part Three - How to Collate Training Data"
   ]
  },
  {
   "cell_type": "markdown",
   "id": "compressed-station",
   "metadata": {},
   "source": [
    "For the digitial humanities, one of the largest problems is access to data. Unlike other industries and disciplines, the reliance on data came late to the humanities. As a result, few well-cultivated datasets exist. This means that the humanist who wishes to apply machine learning to their research, must not only be able to do so, but must also be familiar with how to collate good training data.\n",
    "\n",
    "In the last notebook, we used an off-the-shelf dataset. In real life, you will never have such a resource. There is no collection of labeled data for 13th century French literature (at least I don't think there is). For this reason, this notebook will spend the majority of the time collating a dataset from scratch for text classification.\n",
    "\n",
    "There are two main approaches to collating a good dataset.\n",
    "1) Manual annotation<br>\n",
    "2) Rules-Based annotation with manual validation<br>\n",
    "\n",
    "Manual annotations offer a guarantee that the dataset is 100% accurate. It is often good to have a <b>domain expert</b> do the annotations or validate them to ensure its accuracy. To produce a good binary classification model, one will need 200-500 samples minimum for each label. With harder classification problems, you will find that you need more.\n",
    "\n",
    "In some circumstances, it is infeasible, unrealistic, or too expensive to gather that much training data. Think of a 50-class classification model. That would require someone to manually annotate around 50,000 texts. In these scenarios, the practitioner can apply several tricks to rapidly cultivate a training set through a series of rules. The training set should then be manually validated by an expert. This approach is particularly useful if you do not know if a machine learning approach is even possible for the question you are asking.\n",
    "\n",
    "Because this is a short notebook, let's apply the latter and avoid having a content expert validate the results."
   ]
  },
  {
   "cell_type": "markdown",
   "id": "significant-individual",
   "metadata": {},
   "source": [
    "## Part Four - Introduction to spaCy's Text Classification Pipeline"
   ]
  },
  {
   "cell_type": "code",
   "execution_count": 1,
   "id": "private-stress",
   "metadata": {},
   "outputs": [
    {
     "name": "stdout",
     "output_type": "stream",
     "text": [
      "INFO:tensorflow:Enabling eager execution\n",
      "INFO:tensorflow:Enabling v2 tensorshape\n",
      "INFO:tensorflow:Enabling resource variables\n",
      "INFO:tensorflow:Enabling tensor equality\n",
      "INFO:tensorflow:Enabling control flow v2\n"
     ]
    }
   ],
   "source": [
    "import spacy\n",
    "from spacy.tokens import DocBin\n",
    "import json"
   ]
  },
  {
   "cell_type": "code",
   "execution_count": 2,
   "id": "threatened-capitol",
   "metadata": {},
   "outputs": [],
   "source": [
    "def load_data(file):\n",
    "    with open (file, \"r\", encoding=\"utf-8\") as f:\n",
    "        data = json.load(f)\n",
    "    return (data)\n",
    "\n",
    "def write_data(file, data):\n",
    "    with open (file, \"w\", encoding=\"utf-8\") as f:\n",
    "        json.dump(data, f, indent=4)"
   ]
  },
  {
   "cell_type": "code",
   "execution_count": 3,
   "id": "waiting-julian",
   "metadata": {},
   "outputs": [],
   "source": [
    "train_data = load_data(\"./data/training_data.json\")\n",
    "valid_data = load_data(\"./data/val_data.json\")"
   ]
  },
  {
   "cell_type": "code",
   "execution_count": 4,
   "id": "funny-fellowship",
   "metadata": {},
   "outputs": [
    {
     "name": "stdout",
     "output_type": "stream",
     "text": [
      "Lenght of Training Data is: 800\n",
      "Lenght of Training Data is: 198\n"
     ]
    }
   ],
   "source": [
    "print (f\"Lenght of Training Data is: {len(train_data)}\")\n",
    "print (f\"Lenght of Training Data is: {len(valid_data)}\")"
   ]
  },
  {
   "cell_type": "code",
   "execution_count": 5,
   "id": "curious-administrator",
   "metadata": {},
   "outputs": [
    {
     "name": "stdout",
     "output_type": "stream",
     "text": [
      "['And it, it was a lot of noise, a lot of injuries, a smell of, of the stench of, of gunpowder and, and corpses came closer, you know? War has a certain smell, a very very unpleasant smell that you can really honestly feel.', 0]\n"
     ]
    }
   ],
   "source": [
    "print (train_data[0])"
   ]
  },
  {
   "cell_type": "code",
   "execution_count": 6,
   "id": "nominated-balloon",
   "metadata": {},
   "outputs": [
    {
     "name": "stdout",
     "output_type": "stream",
     "text": [
      "Collecting en-core-web-sm==3.0.0\n",
      "  Downloading https://github.com/explosion/spacy-models/releases/download/en_core_web_sm-3.0.0/en_core_web_sm-3.0.0-py3-none-any.whl (13.7 MB)\n",
      "Requirement already satisfied: spacy<3.1.0,>=3.0.0 in c:\\users\\wma22\\appdata\\local\\programs\\python\\python39\\lib\\site-packages (from en-core-web-sm==3.0.0) (3.0.6)\n",
      "Requirement already satisfied: preshed<3.1.0,>=3.0.2 in c:\\users\\wma22\\appdata\\local\\programs\\python\\python39\\lib\\site-packages (from spacy<3.1.0,>=3.0.0->en-core-web-sm==3.0.0) (3.0.5)\n",
      "Requirement already satisfied: murmurhash<1.1.0,>=0.28.0 in c:\\users\\wma22\\appdata\\local\\programs\\python\\python39\\lib\\site-packages (from spacy<3.1.0,>=3.0.0->en-core-web-sm==3.0.0) (1.0.5)\n",
      "Requirement already satisfied: srsly<3.0.0,>=2.4.1 in c:\\users\\wma22\\appdata\\local\\programs\\python\\python39\\lib\\site-packages (from spacy<3.1.0,>=3.0.0->en-core-web-sm==3.0.0) (2.4.1)\n",
      "Requirement already satisfied: packaging>=20.0 in c:\\users\\wma22\\appdata\\local\\programs\\python\\python39\\lib\\site-packages (from spacy<3.1.0,>=3.0.0->en-core-web-sm==3.0.0) (20.9)\n",
      "Requirement already satisfied: cymem<2.1.0,>=2.0.2 in c:\\users\\wma22\\appdata\\local\\programs\\python\\python39\\lib\\site-packages (from spacy<3.1.0,>=3.0.0->en-core-web-sm==3.0.0) (2.0.5)\n",
      "Requirement already satisfied: pathy>=0.3.5 in c:\\users\\wma22\\appdata\\local\\programs\\python\\python39\\lib\\site-packages (from spacy<3.1.0,>=3.0.0->en-core-web-sm==3.0.0) (0.4.0)\n",
      "Requirement already satisfied: spacy-legacy<3.1.0,>=3.0.4 in c:\\users\\wma22\\appdata\\local\\programs\\python\\python39\\lib\\site-packages (from spacy<3.1.0,>=3.0.0->en-core-web-sm==3.0.0) (3.0.6)\n",
      "Requirement already satisfied: requests<3.0.0,>=2.13.0 in c:\\users\\wma22\\appdata\\local\\programs\\python\\python39\\lib\\site-packages (from spacy<3.1.0,>=3.0.0->en-core-web-sm==3.0.0) (2.25.1)\n",
      "Requirement already satisfied: setuptools in c:\\users\\wma22\\appdata\\local\\programs\\python\\python39\\lib\\site-packages (from spacy<3.1.0,>=3.0.0->en-core-web-sm==3.0.0) (54.1.1)\n",
      "Requirement already satisfied: numpy>=1.15.0 in c:\\users\\wma22\\appdata\\local\\programs\\python\\python39\\lib\\site-packages (from spacy<3.1.0,>=3.0.0->en-core-web-sm==3.0.0) (1.20.2)\n",
      "Requirement already satisfied: catalogue<2.1.0,>=2.0.3 in c:\\users\\wma22\\appdata\\local\\programs\\python\\python39\\lib\\site-packages (from spacy<3.1.0,>=3.0.0->en-core-web-sm==3.0.0) (2.0.4)\n",
      "Requirement already satisfied: typer<0.4.0,>=0.3.0 in c:\\users\\wma22\\appdata\\local\\programs\\python\\python39\\lib\\site-packages (from spacy<3.1.0,>=3.0.0->en-core-web-sm==3.0.0) (0.3.2)\n",
      "Requirement already satisfied: pydantic<1.8.0,>=1.7.1 in c:\\users\\wma22\\appdata\\local\\programs\\python\\python39\\lib\\site-packages (from spacy<3.1.0,>=3.0.0->en-core-web-sm==3.0.0) (1.7.4)\n",
      "Requirement already satisfied: jinja2 in c:\\users\\wma22\\appdata\\local\\programs\\python\\python39\\lib\\site-packages (from spacy<3.1.0,>=3.0.0->en-core-web-sm==3.0.0) (2.11.3)\n",
      "Requirement already satisfied: blis<0.8.0,>=0.4.0 in c:\\users\\wma22\\appdata\\local\\programs\\python\\python39\\lib\\site-packages (from spacy<3.1.0,>=3.0.0->en-core-web-sm==3.0.0) (0.7.4)\n",
      "Requirement already satisfied: wasabi<1.1.0,>=0.8.1 in c:\\users\\wma22\\appdata\\local\\programs\\python\\python39\\lib\\site-packages (from spacy<3.1.0,>=3.0.0->en-core-web-sm==3.0.0) (0.8.2)\n",
      "Requirement already satisfied: thinc<8.1.0,>=8.0.3 in c:\\users\\wma22\\appdata\\local\\programs\\python\\python39\\lib\\site-packages (from spacy<3.1.0,>=3.0.0->en-core-web-sm==3.0.0) (8.0.6)\n",
      "Requirement already satisfied: tqdm<5.0.0,>=4.38.0 in c:\\users\\wma22\\appdata\\local\\programs\\python\\python39\\lib\\site-packages (from spacy<3.1.0,>=3.0.0->en-core-web-sm==3.0.0) (4.59.0)\n",
      "Requirement already satisfied: pyparsing>=2.0.2 in c:\\users\\wma22\\appdata\\local\\programs\\python\\python39\\lib\\site-packages (from packaging>=20.0->spacy<3.1.0,>=3.0.0->en-core-web-sm==3.0.0) (2.4.7)\n",
      "Requirement already satisfied: smart-open<4.0.0,>=2.2.0 in c:\\users\\wma22\\appdata\\local\\programs\\python\\python39\\lib\\site-packages (from pathy>=0.3.5->spacy<3.1.0,>=3.0.0->en-core-web-sm==3.0.0) (3.0.0)\n",
      "Requirement already satisfied: urllib3<1.27,>=1.21.1 in c:\\users\\wma22\\appdata\\local\\programs\\python\\python39\\lib\\site-packages (from requests<3.0.0,>=2.13.0->spacy<3.1.0,>=3.0.0->en-core-web-sm==3.0.0) (1.26.3)\n",
      "Requirement already satisfied: certifi>=2017.4.17 in c:\\users\\wma22\\appdata\\local\\programs\\python\\python39\\lib\\site-packages (from requests<3.0.0,>=2.13.0->spacy<3.1.0,>=3.0.0->en-core-web-sm==3.0.0) (2020.12.5)\n",
      "Requirement already satisfied: idna<3,>=2.5 in c:\\users\\wma22\\appdata\\local\\programs\\python\\python39\\lib\\site-packages (from requests<3.0.0,>=2.13.0->spacy<3.1.0,>=3.0.0->en-core-web-sm==3.0.0) (2.10)\n",
      "Requirement already satisfied: chardet<5,>=3.0.2 in c:\\users\\wma22\\appdata\\local\\programs\\python\\python39\\lib\\site-packages (from requests<3.0.0,>=2.13.0->spacy<3.1.0,>=3.0.0->en-core-web-sm==3.0.0) (4.0.0)\n",
      "Requirement already satisfied: click<7.2.0,>=7.1.1 in c:\\users\\wma22\\appdata\\local\\programs\\python\\python39\\lib\\site-packages (from typer<0.4.0,>=0.3.0->spacy<3.1.0,>=3.0.0->en-core-web-sm==3.0.0) (7.1.2)\n",
      "Requirement already satisfied: MarkupSafe>=0.23 in c:\\users\\wma22\\appdata\\local\\programs\\python\\python39\\lib\\site-packages (from jinja2->spacy<3.1.0,>=3.0.0->en-core-web-sm==3.0.0) (1.1.1)\n",
      "Installing collected packages: en-core-web-sm\n",
      "  Attempting uninstall: en-core-web-sm\n",
      "    Found existing installation: en-core-web-sm 2.3.1\n",
      "    Uninstalling en-core-web-sm-2.3.1:\n",
      "      Successfully uninstalled en-core-web-sm-2.3.1\n",
      "Successfully installed en-core-web-sm-3.0.0\n",
      "[+] Download and installation successful\n",
      "You can now load the package via spacy.load('en_core_web_sm')\n"
     ]
    },
    {
     "name": "stderr",
     "output_type": "stream",
     "text": [
      "2021-06-23 15:04:39.937322: I tensorflow/stream_executor/platform/default/dso_loader.cc:49] Successfully opened dynamic library cudart64_110.dll\n",
      "WARNING: You are using pip version 21.0.1; however, version 21.1.2 is available.\n",
      "You should consider upgrading via the 'C:\\Users\\wma22\\AppData\\Local\\Programs\\Python\\Python39\\python.exe -m pip install --upgrade pip' command.\n"
     ]
    }
   ],
   "source": [
    "!python -m spacy download en_core_web_sm\n",
    "nlp = spacy.load(\"en_core_web_sm\")"
   ]
  },
  {
   "cell_type": "code",
   "execution_count": 7,
   "id": "charming-riverside",
   "metadata": {},
   "outputs": [],
   "source": [
    "def make_docs(data):\n",
    "    docs = []\n",
    "    for doc, label in nlp.pipe(data, as_tuples=True):\n",
    "        if label == 0:\n",
    "            doc.cats[\"hunger\"] = 0\n",
    "            doc.cats[\"smell\"] = 1\n",
    "        else:\n",
    "            doc.cats[\"hunger\"] = 1\n",
    "            doc.cats[\"smell\"] = 0\n",
    "        docs.append(doc)\n",
    "    return (docs)"
   ]
  },
  {
   "cell_type": "code",
   "execution_count": 34,
   "id": "proved-sequence",
   "metadata": {},
   "outputs": [],
   "source": [
    "hunger = train_data[401:]\n",
    "smell = train_data[:400]\n",
    "\n",
    "hunger_training = hunger[:100]\n",
    "smell_training = smell[:100]\n",
    "combined_training = hunger_training+smell_training\n",
    "\n",
    "train_docs = make_docs(combined_training)\n",
    "doc_bin = DocBin(docs=train_docs)\n",
    "doc_bin.to_disk(\"./data/train_hs.spacy\")\n",
    "\n",
    "valid_docs = make_docs(valid_data[:num_texts])\n",
    "doc_bin = DocBin(docs=valid_docs)\n",
    "doc_bin.to_disk(\"./data/valid_hs.spacy\")"
   ]
  },
  {
   "cell_type": "code",
   "execution_count": 9,
   "id": "deadly-catholic",
   "metadata": {},
   "outputs": [
    {
     "name": "stdout",
     "output_type": "stream",
     "text": [
      "[+] Auto-filled config with all values\n",
      "[+] Saved config\n",
      "config.cfg\n",
      "You can now add your data and train your pipeline:\n",
      "python -m spacy train config.cfg --paths.train ./train.spacy --paths.dev ./dev.spacy\n"
     ]
    },
    {
     "name": "stderr",
     "output_type": "stream",
     "text": [
      "2021-06-23 15:05:53.351122: I tensorflow/stream_executor/platform/default/dso_loader.cc:49] Successfully opened dynamic library cudart64_110.dll\n"
     ]
    }
   ],
   "source": [
    "!python -m spacy init fill-config ./base_config.cfg ./config.cfg"
   ]
  },
  {
   "cell_type": "code",
   "execution_count": 35,
   "id": "certain-turkish",
   "metadata": {},
   "outputs": [
    {
     "name": "stdout",
     "output_type": "stream",
     "text": [
      "[i] Using CPU"
     ]
    },
    {
     "name": "stderr",
     "output_type": "stream",
     "text": [
      "2021-06-23 15:14:20.287730: I tensorflow/stream_executor/platform/default/dso_loader.cc:49] Successfully opened dynamic library cudart64_110.dll\n",
      "[2021-06-23 15:14:24,274] [INFO] Set up nlp object from config\n",
      "[2021-06-23 15:14:24,274] [INFO] Pipeline: ['tok2vec', 'textcat']\n",
      "[2021-06-23 15:14:24,274] [INFO] Created vocabulary\n",
      "[2021-06-23 15:14:24,274] [INFO] Finished initializing nlp object\n",
      "[2021-06-23 15:14:24,870] [INFO] Initialized pipeline components: ['tok2vec', 'textcat']\n"
     ]
    },
    {
     "name": "stdout",
     "output_type": "stream",
     "text": [
      "\n",
      "\u001b[1m\n",
      "=========================== Initializing pipeline ===========================\u001b[0m\n",
      "[+] Initialized pipeline\n",
      "\u001b[1m\n",
      "============================= Training pipeline =============================\u001b[0m\n",
      "[i] Pipeline: ['tok2vec', 'textcat']\n",
      "[i] Initial learn rate: 0.001\n",
      "E    #       LOSS TOK2VEC  LOSS TEXTCAT  CATS_SCORE  SCORE \n",
      "---  ------  ------------  ------------  ----------  ------\n",
      "  0       0          0.00          0.12       33.33    0.33\n",
      "  1     200          0.00         29.34       82.61    0.83\n",
      "  3     400          0.00          2.47       85.77    0.86\n",
      "  6     600          0.00          0.52       86.73    0.87\n",
      " 10     800          0.00          0.27       87.28    0.87\n",
      " 14    1000          0.00          0.12       85.81    0.86\n",
      " 20    1200          0.00          0.06       86.28    0.86\n",
      " 27    1400          0.00          0.04       86.86    0.87\n",
      " 36    1600          0.00          0.02       87.28    0.87\n",
      " 46    1800          0.00          0.01       87.28    0.87\n",
      " 60    2000          0.00          0.03       87.28    0.87\n",
      " 76    2200          0.00          0.00       87.80    0.88\n",
      " 95    2400          0.00          0.00       88.33    0.88\n",
      "115    2600          0.00          0.00       88.85    0.89\n",
      "135    2800          0.00          0.00       87.80    0.88\n",
      "155    3000          0.00          0.00       87.80    0.88\n",
      "175    3200          0.00          0.00       87.80    0.88\n",
      "195    3400          0.00          0.00       87.82    0.88\n",
      "215    3600          0.00          0.00       88.33    0.88\n",
      "235    3800          0.00          0.00       88.32    0.88\n",
      "255    4000          0.00          0.00       88.85    0.89\n",
      "275    4200          0.00          0.00       88.33    0.88\n",
      "[+] Saved pipeline to output directory\n",
      "output\\model-last\n"
     ]
    }
   ],
   "source": [
    "!python -m spacy train config.cfg --output ./output"
   ]
  },
  {
   "cell_type": "code",
   "execution_count": 36,
   "id": "gothic-drill",
   "metadata": {},
   "outputs": [],
   "source": [
    "trained_classifier = spacy.load(\"output/model-best\")"
   ]
  },
  {
   "cell_type": "code",
   "execution_count": 83,
   "id": "copyrighted-sport",
   "metadata": {},
   "outputs": [
    {
     "name": "stdout",
     "output_type": "stream",
     "text": [
      "[\"I don't recall how long they were aging but that smell and that wonderful aroma contributed from the honey it was still there.\", 0]\n"
     ]
    }
   ],
   "source": [
    "sample_text = train_data[200]\n",
    "print (sample_text)"
   ]
  },
  {
   "cell_type": "code",
   "execution_count": 81,
   "id": "collected-reducing",
   "metadata": {},
   "outputs": [
    {
     "name": "stdout",
     "output_type": "stream",
     "text": [
      "{'hunger': 0.498866468667984, 'smell': 0.5011335611343384}\n"
     ]
    }
   ],
   "source": [
    "doc = trained_classifier(sample_text[0])"
   ]
  },
  {
   "cell_type": "code",
   "execution_count": 67,
   "id": "phantom-refrigerator",
   "metadata": {},
   "outputs": [],
   "source": [
    "hunger_testing = hunger[101:]\n",
    "smell_testing  = smell[101:]\n",
    "combined_testing = hunger_testing+smell_testing\n"
   ]
  },
  {
   "cell_type": "code",
   "execution_count": 68,
   "id": "ceramic-emission",
   "metadata": {},
   "outputs": [],
   "source": [
    "actual = []\n",
    "predicted = []\n",
    "for example in combined_testing:\n",
    "    if example[1] == 1:\n",
    "        actual.append(\"hunger\")\n",
    "    else:\n",
    "        actual.append(\"smell\")\n",
    "    doc = trained_classifier(example[0])\n",
    "    if doc.cats[\"hunger\"] >.5:\n",
    "        predicted.append(\"hunger\")\n",
    "    else:\n",
    "        predicted.append(\"smell\")"
   ]
  },
  {
   "cell_type": "code",
   "execution_count": 69,
   "id": "small-details",
   "metadata": {},
   "outputs": [
    {
     "name": "stdout",
     "output_type": "stream",
     "text": [
      "597\n"
     ]
    }
   ],
   "source": [
    "print (len(predicted))"
   ]
  },
  {
   "cell_type": "code",
   "execution_count": 54,
   "id": "perfect-blood",
   "metadata": {},
   "outputs": [],
   "source": [
    "from sklearn.metrics import confusion_matrix\n",
    "from sklearn.metrics import accuracy_score\n",
    "from sklearn.metrics import classification_report"
   ]
  },
  {
   "cell_type": "code",
   "execution_count": 70,
   "id": "increased-webcam",
   "metadata": {},
   "outputs": [
    {
     "name": "stdout",
     "output_type": "stream",
     "text": [
      "Confusion Matrix :\n",
      " [[289   9]\n",
      " [ 20 279]]\n",
      "\n",
      "Test Set Accuracy Score :\n",
      " 0.9514237855946399\n",
      "\n"
     ]
    }
   ],
   "source": [
    "cm = confusion_matrix(actual,predicted)\n",
    "print(f'Confusion Matrix :\\n {cm}\\n')\n",
    "print(f'Test Set Accuracy Score :\\n {accuracy_score(actual,predicted)}\\n')"
   ]
  },
  {
   "cell_type": "code",
   "execution_count": 63,
   "id": "abandoned-breakdown",
   "metadata": {},
   "outputs": [],
   "source": [
    "import seaborn as sn\n",
    "import pandas as pd\n",
    "import matplotlib.pyplot as plt"
   ]
  },
  {
   "cell_type": "code",
   "execution_count": 72,
   "id": "exotic-relief",
   "metadata": {},
   "outputs": [
    {
     "data": {
      "text/plain": [
       "<AxesSubplot:>"
      ]
     },
     "execution_count": 72,
     "metadata": {},
     "output_type": "execute_result"
    },
    {
     "data": {
      "text/plain": [
       "<Figure size 720x504 with 0 Axes>"
      ]
     },
     "metadata": {},
     "output_type": "display_data"
    },
    {
     "data": {
      "image/png": "[encoded data removed]",
      "text/plain": [
       "<Figure size 720x504 with 2 Axes>"
      ]
     },
     "metadata": {
      "needs_background": "light"
     },
     "output_type": "display_data"
    }
   ],
   "source": [
    "plt.figure(figsize = (10,7))\n",
    "df_cm = pd.DataFrame(cm, index = [\"hunger\", \"smell\"],\n",
    "                  columns = [\"hunger\", \"smell\"])\n",
    "plt.figure(figsize = (10,7))\n",
    "sn.heatmap(df_cm, annot=True, fmt=\"d\")"
   ]
  },
  {
   "cell_type": "markdown",
   "id": "happy-subsection",
   "metadata": {},
   "source": [
    "## Conclusion"
   ]
  },
  {
   "cell_type": "markdown",
   "id": "difficult-brother",
   "metadata": {},
   "source": []
  },
  {
   "cell_type": "markdown",
   "id": "experimental-smoke",
   "metadata": {},
   "source": [
    "## Resources for Further work with Machine Learning"
   ]
  },
  {
   "cell_type": "markdown",
   "id": "demographic-mumbai",
   "metadata": {},
   "source": []
  }
 ],
 "metadata": {
  "kernelspec": {
   "display_name": "Python 3",
   "language": "python",
   "name": "python3"
  },
  "language_info": {
   "codemirror_mode": {
    "name": "ipython",
    "version": 3
   },
   "file_extension": ".py",
   "mimetype": "text/x-python",
   "name": "python",
   "nbconvert_exporter": "python",
   "pygments_lexer": "ipython3",
   "version": "3.9.2"
  },
  "toc": {
   "base_numbering": 1,
   "nav_menu": {},
   "number_sections": true,
   "sideBar": true,
   "skip_h1_title": false,
   "title_cell": "Table of Contents",
   "title_sidebar": "Contents",
   "toc_cell": false,
   "toc_position": {},
   "toc_section_display": true,
   "toc_window_display": false
  }
 },
 "nbformat": 4,
 "nbformat_minor": 5
}
